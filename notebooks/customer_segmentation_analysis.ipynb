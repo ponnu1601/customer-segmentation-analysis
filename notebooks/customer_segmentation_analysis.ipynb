{
 "cells": [
  {
   "cell_type": "markdown",
   "id": "ee759697",
   "metadata": {},
   "source": [
    "# Customer Segmentation Analysis - Online Retail"
   ]
  },
  {
   "cell_type": "markdown",
   "id": "08fc7396",
   "metadata": {},
   "source": [
    "## 1. Project Overview\n",
    "\n",
    " This project performs customer segmentation analysis on online retail data to identify distinct customer groups based on \n",
    "their purchasing behavior using RFM (Recency, Frequency, Monetary) analysis.\n",
    "\n",
    "**Objectives:**\n",
    "    - Segment customers based on purchasing behavior\n",
    "    - Identify high-value customer groups\n",
    "    - Provide actionable business recommendations\n",
    "\n",
    "**Dataset:** Online Retail dataset (Dec 2010 - Dec 2011)\n",
    "\n",
    "**Source:** [Kaggle - Online Retail Customer Clustering](https://www.kaggle.com/datasets/hellbuoy/online-retail-customer-clustering)\n",
    "\n",
    "**Description:** Transnational dataset containing all transactions for a UK-based online retail company specializing in unique all-occasion gifts, with many wholesale customers.\n",
    "\n",
    "**Business Goal:** Build RFM clustering to identify the best customer segments for targeted marketing strategies."
   ]
  },
  {
   "cell_type": "markdown",
   "id": "3482e293",
   "metadata": {},
   "source": [
    "## 2. Setup"
   ]
  },
  {
   "cell_type": "markdown",
   "id": "4ce1e08c",
   "metadata": {},
   "source": [
    "### 2.1 Import Libraries"
   ]
  },
  {
   "cell_type": "code",
   "execution_count": 1,
   "id": "25eb257b",
   "metadata": {},
   "outputs": [],
   "source": [
    "import pandas as pd\n",
    "import numpy as np\n",
    "import matplotlib.pyplot as plt\n",
    "import seaborn as sns\n",
    "from sklearn.cluster import KMeans\n",
    "from sklearn.preprocessing import StandardScaler\n",
    "from sklearn.metrics import silhouette_score\n",
    "import warnings\n",
    "warnings.filterwarnings('ignore')"
   ]
  },
  {
   "cell_type": "markdown",
   "id": "84b379a3",
   "metadata": {},
   "source": [
    "### 2.2 Load Dataset"
   ]
  },
  {
   "cell_type": "code",
   "execution_count": 2,
   "id": "d5761d0b",
   "metadata": {},
   "outputs": [],
   "source": [
    "# Load the dataset\n",
    "df = pd.read_csv('OnlineRetail.csv', encoding = 'latin-1')"
   ]
  },
  {
   "cell_type": "code",
   "execution_count": 3,
   "id": "33219664",
   "metadata": {
    "scrolled": true
   },
   "outputs": [
    {
     "name": "stdout",
     "output_type": "stream",
     "text": [
      "=== DATASET OVERVIEW === \n",
      "\n",
      "Dataset shape: (541909, 8)\n",
      "Columns: ['InvoiceNo', 'StockCode', 'Description', 'Quantity', 'InvoiceDate', 'UnitPrice', 'CustomerID', 'Country']\n",
      "Unique customers: 4372\n",
      "\n",
      "=== SAMPLE DATA ===\n"
     ]
    },
    {
     "data": {
      "text/html": [
       "<div>\n",
       "<style scoped>\n",
       "    .dataframe tbody tr th:only-of-type {\n",
       "        vertical-align: middle;\n",
       "    }\n",
       "\n",
       "    .dataframe tbody tr th {\n",
       "        vertical-align: top;\n",
       "    }\n",
       "\n",
       "    .dataframe thead th {\n",
       "        text-align: right;\n",
       "    }\n",
       "</style>\n",
       "<table border=\"1\" class=\"dataframe\">\n",
       "  <thead>\n",
       "    <tr style=\"text-align: right;\">\n",
       "      <th></th>\n",
       "      <th>InvoiceNo</th>\n",
       "      <th>StockCode</th>\n",
       "      <th>Description</th>\n",
       "      <th>Quantity</th>\n",
       "      <th>InvoiceDate</th>\n",
       "      <th>UnitPrice</th>\n",
       "      <th>CustomerID</th>\n",
       "      <th>Country</th>\n",
       "    </tr>\n",
       "  </thead>\n",
       "  <tbody>\n",
       "    <tr>\n",
       "      <th>0</th>\n",
       "      <td>536365</td>\n",
       "      <td>85123A</td>\n",
       "      <td>WHITE HANGING HEART T-LIGHT HOLDER</td>\n",
       "      <td>6</td>\n",
       "      <td>01-12-2010 08:26</td>\n",
       "      <td>2.55</td>\n",
       "      <td>17850.0</td>\n",
       "      <td>United Kingdom</td>\n",
       "    </tr>\n",
       "    <tr>\n",
       "      <th>1</th>\n",
       "      <td>536365</td>\n",
       "      <td>71053</td>\n",
       "      <td>WHITE METAL LANTERN</td>\n",
       "      <td>6</td>\n",
       "      <td>01-12-2010 08:26</td>\n",
       "      <td>3.39</td>\n",
       "      <td>17850.0</td>\n",
       "      <td>United Kingdom</td>\n",
       "    </tr>\n",
       "    <tr>\n",
       "      <th>2</th>\n",
       "      <td>536365</td>\n",
       "      <td>84406B</td>\n",
       "      <td>CREAM CUPID HEARTS COAT HANGER</td>\n",
       "      <td>8</td>\n",
       "      <td>01-12-2010 08:26</td>\n",
       "      <td>2.75</td>\n",
       "      <td>17850.0</td>\n",
       "      <td>United Kingdom</td>\n",
       "    </tr>\n",
       "    <tr>\n",
       "      <th>3</th>\n",
       "      <td>536365</td>\n",
       "      <td>84029G</td>\n",
       "      <td>KNITTED UNION FLAG HOT WATER BOTTLE</td>\n",
       "      <td>6</td>\n",
       "      <td>01-12-2010 08:26</td>\n",
       "      <td>3.39</td>\n",
       "      <td>17850.0</td>\n",
       "      <td>United Kingdom</td>\n",
       "    </tr>\n",
       "    <tr>\n",
       "      <th>4</th>\n",
       "      <td>536365</td>\n",
       "      <td>84029E</td>\n",
       "      <td>RED WOOLLY HOTTIE WHITE HEART.</td>\n",
       "      <td>6</td>\n",
       "      <td>01-12-2010 08:26</td>\n",
       "      <td>3.39</td>\n",
       "      <td>17850.0</td>\n",
       "      <td>United Kingdom</td>\n",
       "    </tr>\n",
       "  </tbody>\n",
       "</table>\n",
       "</div>"
      ],
      "text/plain": [
       "  InvoiceNo StockCode                          Description  Quantity  \\\n",
       "0    536365    85123A   WHITE HANGING HEART T-LIGHT HOLDER         6   \n",
       "1    536365     71053                  WHITE METAL LANTERN         6   \n",
       "2    536365    84406B       CREAM CUPID HEARTS COAT HANGER         8   \n",
       "3    536365    84029G  KNITTED UNION FLAG HOT WATER BOTTLE         6   \n",
       "4    536365    84029E       RED WOOLLY HOTTIE WHITE HEART.         6   \n",
       "\n",
       "        InvoiceDate  UnitPrice  CustomerID         Country  \n",
       "0  01-12-2010 08:26       2.55     17850.0  United Kingdom  \n",
       "1  01-12-2010 08:26       3.39     17850.0  United Kingdom  \n",
       "2  01-12-2010 08:26       2.75     17850.0  United Kingdom  \n",
       "3  01-12-2010 08:26       3.39     17850.0  United Kingdom  \n",
       "4  01-12-2010 08:26       3.39     17850.0  United Kingdom  "
      ]
     },
     "execution_count": 3,
     "metadata": {},
     "output_type": "execute_result"
    }
   ],
   "source": [
    "# Basic dataset information\n",
    "print(\"=== DATASET OVERVIEW === \\n\")\n",
    "print(f\"Dataset shape: {df.shape}\")\n",
    "print(f\"Columns: {list(df.columns)}\")\n",
    "print(f\"Unique customers: {df['CustomerID'].nunique()}\")\n",
    "\n",
    "\n",
    "print(\"\\n=== SAMPLE DATA ===\")\n",
    "# Display first few rows\n",
    "df.head()"
   ]
  },
  {
   "cell_type": "markdown",
   "id": "2066665d",
   "metadata": {},
   "source": [
    "## 3. Exploratory Data Analysis"
   ]
  },
  {
   "cell_type": "markdown",
   "id": "202fd601",
   "metadata": {},
   "source": [
    "### 3.1 Dataset Structure"
   ]
  },
  {
   "cell_type": "code",
   "execution_count": 4,
   "id": "969429c0",
   "metadata": {},
   "outputs": [
    {
     "name": "stdout",
     "output_type": "stream",
     "text": [
      "=== DATASET STRUCTURE ===\n",
      "\n",
      "Total records: 541,909\n",
      "Total columns: 8\n",
      "Memory usage: 194.3 MB\n",
      "\n",
      "=== DATA TYPES & MISSING VALUES ===\n",
      "\n",
      "<class 'pandas.core.frame.DataFrame'>\n",
      "RangeIndex: 541909 entries, 0 to 541908\n",
      "Data columns (total 8 columns):\n",
      " #   Column       Non-Null Count   Dtype  \n",
      "---  ------       --------------   -----  \n",
      " 0   InvoiceNo    541909 non-null  object \n",
      " 1   StockCode    541909 non-null  object \n",
      " 2   Description  540455 non-null  object \n",
      " 3   Quantity     541909 non-null  int64  \n",
      " 4   InvoiceDate  541909 non-null  object \n",
      " 5   UnitPrice    541909 non-null  float64\n",
      " 6   CustomerID   406829 non-null  float64\n",
      " 7   Country      541909 non-null  object \n",
      "dtypes: float64(2), int64(1), object(5)\n",
      "memory usage: 33.1+ MB\n"
     ]
    }
   ],
   "source": [
    "# Detailed dataset information\n",
    "print(\"=== DATASET STRUCTURE ===\\n\")\n",
    "print(f\"Total records: {len(df):,}\")\n",
    "print(f\"Total columns: {len(df.columns)}\")\n",
    "print(f\"Memory usage: {df.memory_usage(deep=True).sum() / 1024**2:.1f} MB\")\n",
    "\n",
    "print(\"\\n=== DATA TYPES & MISSING VALUES ===\\n\")\n",
    "# Data types and missing values\n",
    "df.info()"
   ]
  },
  {
   "cell_type": "markdown",
   "id": "a86c0cd5",
   "metadata": {},
   "source": [
    "### 3.2 Missing Values Analysis"
   ]
  },
  {
   "cell_type": "code",
   "execution_count": 5,
   "id": "996696f7",
   "metadata": {
    "scrolled": true
   },
   "outputs": [
    {
     "name": "stdout",
     "output_type": "stream",
     "text": [
      "=== MISSING VALUES ANALYSIS ===\n"
     ]
    },
    {
     "data": {
      "text/html": [
       "<div>\n",
       "<style scoped>\n",
       "    .dataframe tbody tr th:only-of-type {\n",
       "        vertical-align: middle;\n",
       "    }\n",
       "\n",
       "    .dataframe tbody tr th {\n",
       "        vertical-align: top;\n",
       "    }\n",
       "\n",
       "    .dataframe thead th {\n",
       "        text-align: right;\n",
       "    }\n",
       "</style>\n",
       "<table border=\"1\" class=\"dataframe\">\n",
       "  <thead>\n",
       "    <tr style=\"text-align: right;\">\n",
       "      <th></th>\n",
       "      <th>Missing Count</th>\n",
       "      <th>Missing Percentage</th>\n",
       "    </tr>\n",
       "  </thead>\n",
       "  <tbody>\n",
       "    <tr>\n",
       "      <th>InvoiceNo</th>\n",
       "      <td>0</td>\n",
       "      <td>0.00</td>\n",
       "    </tr>\n",
       "    <tr>\n",
       "      <th>StockCode</th>\n",
       "      <td>0</td>\n",
       "      <td>0.00</td>\n",
       "    </tr>\n",
       "    <tr>\n",
       "      <th>Description</th>\n",
       "      <td>1454</td>\n",
       "      <td>0.27</td>\n",
       "    </tr>\n",
       "    <tr>\n",
       "      <th>Quantity</th>\n",
       "      <td>0</td>\n",
       "      <td>0.00</td>\n",
       "    </tr>\n",
       "    <tr>\n",
       "      <th>InvoiceDate</th>\n",
       "      <td>0</td>\n",
       "      <td>0.00</td>\n",
       "    </tr>\n",
       "    <tr>\n",
       "      <th>UnitPrice</th>\n",
       "      <td>0</td>\n",
       "      <td>0.00</td>\n",
       "    </tr>\n",
       "    <tr>\n",
       "      <th>CustomerID</th>\n",
       "      <td>135080</td>\n",
       "      <td>24.93</td>\n",
       "    </tr>\n",
       "    <tr>\n",
       "      <th>Country</th>\n",
       "      <td>0</td>\n",
       "      <td>0.00</td>\n",
       "    </tr>\n",
       "  </tbody>\n",
       "</table>\n",
       "</div>"
      ],
      "text/plain": [
       "             Missing Count  Missing Percentage\n",
       "InvoiceNo                0                0.00\n",
       "StockCode                0                0.00\n",
       "Description           1454                0.27\n",
       "Quantity                 0                0.00\n",
       "InvoiceDate              0                0.00\n",
       "UnitPrice                0                0.00\n",
       "CustomerID          135080               24.93\n",
       "Country                  0                0.00"
      ]
     },
     "execution_count": 5,
     "metadata": {},
     "output_type": "execute_result"
    }
   ],
   "source": [
    "# Check missing values\n",
    "print(\"=== MISSING VALUES ANALYSIS ===\")\n",
    "missing_values = df.isnull().sum()\n",
    "missing_percentage = (missing_values / len(df) * 100).round(2)\n",
    "\n",
    "missing_summary = pd.DataFrame({\n",
    "    'Missing Count': missing_values,\n",
    "    'Missing Percentage': missing_percentage\n",
    "})\n",
    "missing_summary"
   ]
  },
  {
   "cell_type": "markdown",
   "id": "d0ecd939",
   "metadata": {},
   "source": [
    "### 3.3 Date Range Analysis"
   ]
  },
  {
   "cell_type": "code",
   "execution_count": 6,
   "id": "d1d3abff",
   "metadata": {},
   "outputs": [
    {
     "name": "stdout",
     "output_type": "stream",
     "text": [
      "=== DATE RANGE ANALYSIS ===\n",
      "\n",
      "Date range: 2010-12-01 08:26:00 to 2011-12-09 12:50:00\n",
      "Analysis period: 373 days\n",
      "New data type: datetime64[ns]\n"
     ]
    }
   ],
   "source": [
    "# Convert and analyze dates\n",
    "print(\"=== DATE RANGE ANALYSIS ===\\n\")\n",
    "df['InvoiceDate'] = pd.to_datetime(df['InvoiceDate'], format='%d-%m-%Y %H:%M')\n",
    "\n",
    "# Convert InvoiceDate to datetime\n",
    "print(f\"Date range: {df['InvoiceDate'].min()} to {df['InvoiceDate'].max()}\")\n",
    "print(f\"Analysis period: {(df['InvoiceDate'].max() - df['InvoiceDate'].min()).days} days\")\n",
    "print(f\"New data type: {df['InvoiceDate'].dtype}\")"
   ]
  },
  {
   "cell_type": "markdown",
   "id": "6aa509e2",
   "metadata": {},
   "source": [
    "### 3.4 Numerical Data Analysis"
   ]
  },
  {
   "cell_type": "code",
   "execution_count": 7,
   "id": "dcb398a7",
   "metadata": {
    "scrolled": true
   },
   "outputs": [
    {
     "name": "stdout",
     "output_type": "stream",
     "text": [
      "=== NUMERICAL DATA ANALYSIS ===\n"
     ]
    },
    {
     "data": {
      "text/html": [
       "<div>\n",
       "<style scoped>\n",
       "    .dataframe tbody tr th:only-of-type {\n",
       "        vertical-align: middle;\n",
       "    }\n",
       "\n",
       "    .dataframe tbody tr th {\n",
       "        vertical-align: top;\n",
       "    }\n",
       "\n",
       "    .dataframe thead th {\n",
       "        text-align: right;\n",
       "    }\n",
       "</style>\n",
       "<table border=\"1\" class=\"dataframe\">\n",
       "  <thead>\n",
       "    <tr style=\"text-align: right;\">\n",
       "      <th></th>\n",
       "      <th>Quantity</th>\n",
       "      <th>UnitPrice</th>\n",
       "    </tr>\n",
       "  </thead>\n",
       "  <tbody>\n",
       "    <tr>\n",
       "      <th>count</th>\n",
       "      <td>541909.000000</td>\n",
       "      <td>541909.000000</td>\n",
       "    </tr>\n",
       "    <tr>\n",
       "      <th>mean</th>\n",
       "      <td>9.552250</td>\n",
       "      <td>4.611114</td>\n",
       "    </tr>\n",
       "    <tr>\n",
       "      <th>std</th>\n",
       "      <td>218.081158</td>\n",
       "      <td>96.759853</td>\n",
       "    </tr>\n",
       "    <tr>\n",
       "      <th>min</th>\n",
       "      <td>-80995.000000</td>\n",
       "      <td>-11062.060000</td>\n",
       "    </tr>\n",
       "    <tr>\n",
       "      <th>25%</th>\n",
       "      <td>1.000000</td>\n",
       "      <td>1.250000</td>\n",
       "    </tr>\n",
       "    <tr>\n",
       "      <th>50%</th>\n",
       "      <td>3.000000</td>\n",
       "      <td>2.080000</td>\n",
       "    </tr>\n",
       "    <tr>\n",
       "      <th>75%</th>\n",
       "      <td>10.000000</td>\n",
       "      <td>4.130000</td>\n",
       "    </tr>\n",
       "    <tr>\n",
       "      <th>max</th>\n",
       "      <td>80995.000000</td>\n",
       "      <td>38970.000000</td>\n",
       "    </tr>\n",
       "  </tbody>\n",
       "</table>\n",
       "</div>"
      ],
      "text/plain": [
       "            Quantity      UnitPrice\n",
       "count  541909.000000  541909.000000\n",
       "mean        9.552250       4.611114\n",
       "std       218.081158      96.759853\n",
       "min    -80995.000000  -11062.060000\n",
       "25%         1.000000       1.250000\n",
       "50%         3.000000       2.080000\n",
       "75%        10.000000       4.130000\n",
       "max     80995.000000   38970.000000"
      ]
     },
     "execution_count": 7,
     "metadata": {},
     "output_type": "execute_result"
    }
   ],
   "source": [
    "# Analyze numerical columns\n",
    "print('=== NUMERICAL DATA ANALYSIS ===')\n",
    "\n",
    "# Basic statistics for numerical columns\n",
    "numerical_cols = ['Quantity', 'UnitPrice']\n",
    "df[numerical_cols].describe()"
   ]
  },
  {
   "cell_type": "code",
   "execution_count": 8,
   "id": "efe92206",
   "metadata": {},
   "outputs": [
    {
     "name": "stdout",
     "output_type": "stream",
     "text": [
      "Negative quantities : 10,624\n",
      "Zero quantities : 0\n",
      "Negative prices : 2\n",
      "Zero prices : 2,515\n"
     ]
    }
   ],
   "source": [
    "# Check for negative values and zeros\n",
    "print(f\"Negative quantities : {(df['Quantity'] < 0).sum():,}\")\n",
    "print(f\"Zero quantities : {(df['Quantity'] == 0).sum():,}\")\n",
    "print(f\"Negative prices : {(df['UnitPrice'] < 0).sum():,}\")\n",
    "print(f\"Zero prices : {(df['UnitPrice'] == 0).sum():,}\")"
   ]
  },
  {
   "cell_type": "code",
   "execution_count": 9,
   "id": "5bb0b9da",
   "metadata": {
    "scrolled": true
   },
   "outputs": [
    {
     "name": "stdout",
     "output_type": "stream",
     "text": [
      "\n",
      "Sample negative quantities (returns):\n"
     ]
    },
    {
     "data": {
      "text/html": [
       "<div>\n",
       "<style scoped>\n",
       "    .dataframe tbody tr th:only-of-type {\n",
       "        vertical-align: middle;\n",
       "    }\n",
       "\n",
       "    .dataframe tbody tr th {\n",
       "        vertical-align: top;\n",
       "    }\n",
       "\n",
       "    .dataframe thead th {\n",
       "        text-align: right;\n",
       "    }\n",
       "</style>\n",
       "<table border=\"1\" class=\"dataframe\">\n",
       "  <thead>\n",
       "    <tr style=\"text-align: right;\">\n",
       "      <th></th>\n",
       "      <th>InvoiceNo</th>\n",
       "      <th>StockCode</th>\n",
       "      <th>Description</th>\n",
       "      <th>Quantity</th>\n",
       "      <th>UnitPrice</th>\n",
       "    </tr>\n",
       "  </thead>\n",
       "  <tbody>\n",
       "    <tr>\n",
       "      <th>141</th>\n",
       "      <td>C536379</td>\n",
       "      <td>D</td>\n",
       "      <td>Discount</td>\n",
       "      <td>-1</td>\n",
       "      <td>27.50</td>\n",
       "    </tr>\n",
       "    <tr>\n",
       "      <th>154</th>\n",
       "      <td>C536383</td>\n",
       "      <td>35004C</td>\n",
       "      <td>SET OF 3 COLOURED  FLYING DUCKS</td>\n",
       "      <td>-1</td>\n",
       "      <td>4.65</td>\n",
       "    </tr>\n",
       "    <tr>\n",
       "      <th>235</th>\n",
       "      <td>C536391</td>\n",
       "      <td>22556</td>\n",
       "      <td>PLASTERS IN TIN CIRCUS PARADE</td>\n",
       "      <td>-12</td>\n",
       "      <td>1.65</td>\n",
       "    </tr>\n",
       "  </tbody>\n",
       "</table>\n",
       "</div>"
      ],
      "text/plain": [
       "    InvoiceNo StockCode                      Description  Quantity  UnitPrice\n",
       "141   C536379         D                         Discount        -1      27.50\n",
       "154   C536383    35004C  SET OF 3 COLOURED  FLYING DUCKS        -1       4.65\n",
       "235   C536391     22556   PLASTERS IN TIN CIRCUS PARADE        -12       1.65"
      ]
     },
     "execution_count": 9,
     "metadata": {},
     "output_type": "execute_result"
    }
   ],
   "source": [
    "# Example for a negative quantity \n",
    "if (df['Quantity'] < 0).sum() > 0:\n",
    "    print(f\"\\nSample negative quantities (returns):\")\n",
    "(df[df['Quantity'] < 0][['InvoiceNo', 'StockCode', 'Description', 'Quantity', 'UnitPrice']].head(3))"
   ]
  },
  {
   "cell_type": "markdown",
   "id": "b6dbccac",
   "metadata": {},
   "source": [
    "## 4. Data Cleaning"
   ]
  },
  {
   "cell_type": "markdown",
   "id": "d5c26888",
   "metadata": {},
   "source": [
    "### 4.1 Remove Missing CustomerIDs"
   ]
  },
  {
   "cell_type": "code",
   "execution_count": 10,
   "id": "37ddf63b",
   "metadata": {},
   "outputs": [
    {
     "name": "stdout",
     "output_type": "stream",
     "text": [
      "=== REMOVING MISSING CUSTOMERIDs ===\n",
      "\n",
      "Before cleaning : 541,909 rows\n",
      "After cleaning : 406,829 rows\n",
      "Rows removed : 135,080\n",
      "Unique customers remaining : 4,372\n"
     ]
    }
   ],
   "source": [
    "# Remove transactions without CustomerID \n",
    "print('=== REMOVING MISSING CUSTOMERIDs ===\\n')\n",
    "print(f\"Before cleaning : {len(df):,} rows\")\n",
    "\n",
    "df_clean = df.dropna(subset = ['CustomerID']).copy()\n",
    "\n",
    "print(f\"After cleaning : {len(df_clean):,} rows\")\n",
    "print(f\"Rows removed : {len(df) - len(df_clean) :,}\")\n",
    "print(f\"Unique customers remaining : {(df_clean['CustomerID']).nunique():,}\")"
   ]
  },
  {
   "cell_type": "markdown",
   "id": "b366a96d",
   "metadata": {},
   "source": [
    "### 4.2 Remove Zero Prices"
   ]
  },
  {
   "cell_type": "code",
   "execution_count": 11,
   "id": "b5a9cad0",
   "metadata": {},
   "outputs": [
    {
     "name": "stdout",
     "output_type": "stream",
     "text": [
      "=== REMOVING ZERO PRICES ===\n",
      "\n",
      "Before removing zero prices : 406,829 rows\n",
      "Zero price transactions : 40\n",
      "After removing zero prices : 406,789 rows\n",
      "Unique customers : 4,371\n"
     ]
    }
   ],
   "source": [
    "# Remove transactions with zero prices \n",
    "print('=== REMOVING ZERO PRICES ===\\n')\n",
    "print(f\"Before removing zero prices : {len(df_clean):,} rows\")\n",
    "print(f\"Zero price transactions : {(df_clean['UnitPrice'] == 0).sum():,}\")\n",
    "\n",
    "df_clean = df_clean[df_clean['UnitPrice'] > 0]\n",
    "\n",
    "print(f\"After removing zero prices : {len(df_clean):,} rows\")\n",
    "print(f\"Unique customers : {df_clean['CustomerID'].nunique():,}\")"
   ]
  },
  {
   "cell_type": "markdown",
   "id": "27ffd8dc",
   "metadata": {},
   "source": [
    "### 4.3 Check for Duplicate Transactions"
   ]
  },
  {
   "cell_type": "code",
   "execution_count": 12,
   "id": "430c738c",
   "metadata": {},
   "outputs": [
    {
     "name": "stdout",
     "output_type": "stream",
     "text": [
      "=== CHECKING FOR DUPLICATE TRANSACTIONS ===\n",
      "Exact Duplicates : 5,225\n",
      "Potential Duplicates : 5,267\n"
     ]
    }
   ],
   "source": [
    "# Check for duplicate transactions\n",
    "print('=== CHECKING FOR DUPLICATE TRANSACTIONS ===')\n",
    "\n",
    "# Check for exact duplicates\n",
    "exact_duplicates = df_clean.duplicated().sum()\n",
    "print(f\"Exact Duplicates : {exact_duplicates:,}\")\n",
    "\n",
    "# Check for potential duplicate transactions (same customer, product, date, quantity, price)\n",
    "potential_duplicates = df_clean.duplicated(subset = ['CustomerID', 'StockCode', 'InvoiceDate', 'Quantity', 'UnitPrice']).sum()\n",
    "print(f\"Potential Duplicates : {potential_duplicates:,}\")"
   ]
  },
  {
   "cell_type": "code",
   "execution_count": 13,
   "id": "cc82465f",
   "metadata": {},
   "outputs": [
    {
     "name": "stdout",
     "output_type": "stream",
     "text": [
      "After removing duplicates : 401,564 rows\n",
      "Unique customers : 4,371\n"
     ]
    }
   ],
   "source": [
    "# Removing exact duplicates\n",
    "df_clean = df_clean.drop_duplicates()\n",
    "print(f\"After removing duplicates : {len(df_clean):,} rows\")\n",
    "print(f\"Unique customers : {df_clean['CustomerID'].nunique():,}\")"
   ]
  },
  {
   "cell_type": "markdown",
   "id": "f399bb70",
   "metadata": {},
   "source": [
    "## 5. Feature Engineering"
   ]
  },
  {
   "cell_type": "markdown",
   "id": "31fb6dc6",
   "metadata": {},
   "source": [
    "### 5.1 Create Transaction Amount Column"
   ]
  },
  {
   "cell_type": "code",
   "execution_count": 14,
   "id": "b3d94b78",
   "metadata": {},
   "outputs": [
    {
     "data": {
      "text/html": [
       "<div>\n",
       "<style scoped>\n",
       "    .dataframe tbody tr th:only-of-type {\n",
       "        vertical-align: middle;\n",
       "    }\n",
       "\n",
       "    .dataframe tbody tr th {\n",
       "        vertical-align: top;\n",
       "    }\n",
       "\n",
       "    .dataframe thead th {\n",
       "        text-align: right;\n",
       "    }\n",
       "</style>\n",
       "<table border=\"1\" class=\"dataframe\">\n",
       "  <thead>\n",
       "    <tr style=\"text-align: right;\">\n",
       "      <th></th>\n",
       "      <th>InvoiceNo</th>\n",
       "      <th>StockCode</th>\n",
       "      <th>Description</th>\n",
       "      <th>Quantity</th>\n",
       "      <th>InvoiceDate</th>\n",
       "      <th>UnitPrice</th>\n",
       "      <th>CustomerID</th>\n",
       "      <th>Country</th>\n",
       "      <th>TotalAmount</th>\n",
       "    </tr>\n",
       "  </thead>\n",
       "  <tbody>\n",
       "    <tr>\n",
       "      <th>0</th>\n",
       "      <td>536365</td>\n",
       "      <td>85123A</td>\n",
       "      <td>WHITE HANGING HEART T-LIGHT HOLDER</td>\n",
       "      <td>6</td>\n",
       "      <td>2010-12-01 08:26:00</td>\n",
       "      <td>2.55</td>\n",
       "      <td>17850.0</td>\n",
       "      <td>United Kingdom</td>\n",
       "      <td>15.30</td>\n",
       "    </tr>\n",
       "    <tr>\n",
       "      <th>1</th>\n",
       "      <td>536365</td>\n",
       "      <td>71053</td>\n",
       "      <td>WHITE METAL LANTERN</td>\n",
       "      <td>6</td>\n",
       "      <td>2010-12-01 08:26:00</td>\n",
       "      <td>3.39</td>\n",
       "      <td>17850.0</td>\n",
       "      <td>United Kingdom</td>\n",
       "      <td>20.34</td>\n",
       "    </tr>\n",
       "    <tr>\n",
       "      <th>2</th>\n",
       "      <td>536365</td>\n",
       "      <td>84406B</td>\n",
       "      <td>CREAM CUPID HEARTS COAT HANGER</td>\n",
       "      <td>8</td>\n",
       "      <td>2010-12-01 08:26:00</td>\n",
       "      <td>2.75</td>\n",
       "      <td>17850.0</td>\n",
       "      <td>United Kingdom</td>\n",
       "      <td>22.00</td>\n",
       "    </tr>\n",
       "    <tr>\n",
       "      <th>3</th>\n",
       "      <td>536365</td>\n",
       "      <td>84029G</td>\n",
       "      <td>KNITTED UNION FLAG HOT WATER BOTTLE</td>\n",
       "      <td>6</td>\n",
       "      <td>2010-12-01 08:26:00</td>\n",
       "      <td>3.39</td>\n",
       "      <td>17850.0</td>\n",
       "      <td>United Kingdom</td>\n",
       "      <td>20.34</td>\n",
       "    </tr>\n",
       "    <tr>\n",
       "      <th>4</th>\n",
       "      <td>536365</td>\n",
       "      <td>84029E</td>\n",
       "      <td>RED WOOLLY HOTTIE WHITE HEART.</td>\n",
       "      <td>6</td>\n",
       "      <td>2010-12-01 08:26:00</td>\n",
       "      <td>3.39</td>\n",
       "      <td>17850.0</td>\n",
       "      <td>United Kingdom</td>\n",
       "      <td>20.34</td>\n",
       "    </tr>\n",
       "  </tbody>\n",
       "</table>\n",
       "</div>"
      ],
      "text/plain": [
       "  InvoiceNo StockCode                          Description  Quantity  \\\n",
       "0    536365    85123A   WHITE HANGING HEART T-LIGHT HOLDER         6   \n",
       "1    536365     71053                  WHITE METAL LANTERN         6   \n",
       "2    536365    84406B       CREAM CUPID HEARTS COAT HANGER         8   \n",
       "3    536365    84029G  KNITTED UNION FLAG HOT WATER BOTTLE         6   \n",
       "4    536365    84029E       RED WOOLLY HOTTIE WHITE HEART.         6   \n",
       "\n",
       "          InvoiceDate  UnitPrice  CustomerID         Country  TotalAmount  \n",
       "0 2010-12-01 08:26:00       2.55     17850.0  United Kingdom        15.30  \n",
       "1 2010-12-01 08:26:00       3.39     17850.0  United Kingdom        20.34  \n",
       "2 2010-12-01 08:26:00       2.75     17850.0  United Kingdom        22.00  \n",
       "3 2010-12-01 08:26:00       3.39     17850.0  United Kingdom        20.34  \n",
       "4 2010-12-01 08:26:00       3.39     17850.0  United Kingdom        20.34  "
      ]
     },
     "execution_count": 14,
     "metadata": {},
     "output_type": "execute_result"
    }
   ],
   "source": [
    "# Calculate total amount for each transaction\n",
    "df_clean['TotalAmount'] = df_clean['Quantity'] * df_clean['UnitPrice']\n",
    "\n",
    "#Print first few rows\n",
    "df_clean.head()"
   ]
  },
  {
   "cell_type": "code",
   "execution_count": 15,
   "id": "dd819a8e",
   "metadata": {
    "scrolled": false
   },
   "outputs": [
    {
     "name": "stdout",
     "output_type": "stream",
     "text": [
      "Posititve amount (purchases) : 392,692\n",
      "Negative amount (purchases) : 8,872\n"
     ]
    }
   ],
   "source": [
    "# Count of Positive and Negative Amounts\n",
    "print(f\"Posititve amount (purchases) : {(df_clean['TotalAmount'] > 0).sum():,}\")\n",
    "print(f\"Negative amount (purchases) : {(df_clean['TotalAmount'] < 0).sum():,}\")"
   ]
  },
  {
   "cell_type": "markdown",
   "id": "dd820861",
   "metadata": {},
   "source": [
    "### 5.2 Remove Unprofitable Customers"
   ]
  },
  {
   "cell_type": "code",
   "execution_count": 16,
   "id": "a907de60",
   "metadata": {},
   "outputs": [
    {
     "data": {
      "text/plain": [
       "CustomerID\n",
       "12346.0       0.00\n",
       "12347.0    4310.00\n",
       "12348.0    1797.24\n",
       "12349.0    1757.55\n",
       "12350.0     334.40\n",
       "            ...   \n",
       "18280.0     180.60\n",
       "18281.0      80.82\n",
       "18282.0     176.60\n",
       "18283.0    2045.53\n",
       "18287.0    1837.28\n",
       "Name: TotalAmount, Length: 4371, dtype: float64"
      ]
     },
     "execution_count": 16,
     "metadata": {},
     "output_type": "execute_result"
    }
   ],
   "source": [
    "# Calculate net spending per customer\n",
    "customer_net_spending = df_clean.groupby('CustomerID')['TotalAmount'].sum()\n",
    "customer_net_spending"
   ]
  },
  {
   "cell_type": "code",
   "execution_count": 17,
   "id": "f0b2ac90",
   "metadata": {},
   "outputs": [
    {
     "name": "stdout",
     "output_type": "stream",
     "text": [
      "Unprofitable customers : 49\n"
     ]
    }
   ],
   "source": [
    "# Find customers with non-positive spending\n",
    "unprofitable_customers = customer_net_spending[customer_net_spending <= 0].index\n",
    "print(f\"Unprofitable customers : {len(unprofitable_customers)}\")"
   ]
  },
  {
   "cell_type": "code",
   "execution_count": 18,
   "id": "4e2c88d2",
   "metadata": {},
   "outputs": [
    {
     "name": "stdout",
     "output_type": "stream",
     "text": [
      "Remaining Transactions : 401,262\n",
      "Unique customers : 4,322\n"
     ]
    }
   ],
   "source": [
    "# Remove unprofitable customers\n",
    "df_clean = df_clean[~df_clean['CustomerID'].isin(unprofitable_customers)]\n",
    "print(f\"Remaining Transactions : {len(df_clean):,}\")\n",
    "print(f\"Unique customers : {df_clean['CustomerID'].nunique():,}\")"
   ]
  },
  {
   "cell_type": "markdown",
   "id": "b360f76d",
   "metadata": {},
   "source": [
    "## 6. RFM Analysis"
   ]
  },
  {
   "cell_type": "markdown",
   "id": "07d00717",
   "metadata": {},
   "source": [
    "### 6.1 Calculate RFM Metrics"
   ]
  },
  {
   "cell_type": "code",
   "execution_count": 19,
   "id": "ad3bb69f",
   "metadata": {},
   "outputs": [
    {
     "name": "stdout",
     "output_type": "stream",
     "text": [
      "Analysis date : 2011-12-10 12:50:00\n"
     ]
    }
   ],
   "source": [
    "# Set analysis date (day after the last transaction)\n",
    "analysis_date = df_clean['InvoiceDate'].max() + pd.Timedelta(days = 1)\n",
    "print('Analysis date :', analysis_date)"
   ]
  },
  {
   "cell_type": "code",
   "execution_count": 20,
   "id": "0993010f",
   "metadata": {},
   "outputs": [],
   "source": [
    "# Calculate RFM for each customer\n",
    "rfm = df_clean.groupby('CustomerID').agg({\n",
    "    'InvoiceDate' : lambda x: (analysis_date - x.max()).days,\n",
    "    'InvoiceNo' : 'nunique',\n",
    "    'TotalAmount' : 'sum'\n",
    "}).round(2)"
   ]
  },
  {
   "cell_type": "code",
   "execution_count": 21,
   "id": "000892d7",
   "metadata": {
    "scrolled": true
   },
   "outputs": [
    {
     "data": {
      "text/html": [
       "<div>\n",
       "<style scoped>\n",
       "    .dataframe tbody tr th:only-of-type {\n",
       "        vertical-align: middle;\n",
       "    }\n",
       "\n",
       "    .dataframe tbody tr th {\n",
       "        vertical-align: top;\n",
       "    }\n",
       "\n",
       "    .dataframe thead th {\n",
       "        text-align: right;\n",
       "    }\n",
       "</style>\n",
       "<table border=\"1\" class=\"dataframe\">\n",
       "  <thead>\n",
       "    <tr style=\"text-align: right;\">\n",
       "      <th></th>\n",
       "      <th>Recency</th>\n",
       "      <th>Frequency</th>\n",
       "      <th>Monetary</th>\n",
       "    </tr>\n",
       "    <tr>\n",
       "      <th>CustomerID</th>\n",
       "      <th></th>\n",
       "      <th></th>\n",
       "      <th></th>\n",
       "    </tr>\n",
       "  </thead>\n",
       "  <tbody>\n",
       "    <tr>\n",
       "      <th>12347.0</th>\n",
       "      <td>2</td>\n",
       "      <td>7</td>\n",
       "      <td>4310.00</td>\n",
       "    </tr>\n",
       "    <tr>\n",
       "      <th>12348.0</th>\n",
       "      <td>75</td>\n",
       "      <td>4</td>\n",
       "      <td>1797.24</td>\n",
       "    </tr>\n",
       "    <tr>\n",
       "      <th>12349.0</th>\n",
       "      <td>19</td>\n",
       "      <td>1</td>\n",
       "      <td>1757.55</td>\n",
       "    </tr>\n",
       "    <tr>\n",
       "      <th>12350.0</th>\n",
       "      <td>310</td>\n",
       "      <td>1</td>\n",
       "      <td>334.40</td>\n",
       "    </tr>\n",
       "    <tr>\n",
       "      <th>12352.0</th>\n",
       "      <td>36</td>\n",
       "      <td>11</td>\n",
       "      <td>1545.41</td>\n",
       "    </tr>\n",
       "  </tbody>\n",
       "</table>\n",
       "</div>"
      ],
      "text/plain": [
       "            Recency  Frequency  Monetary\n",
       "CustomerID                              \n",
       "12347.0           2          7   4310.00\n",
       "12348.0          75          4   1797.24\n",
       "12349.0          19          1   1757.55\n",
       "12350.0         310          1    334.40\n",
       "12352.0          36         11   1545.41"
      ]
     },
     "execution_count": 21,
     "metadata": {},
     "output_type": "execute_result"
    }
   ],
   "source": [
    "# Rename columns\n",
    "rfm.columns = ['Recency', 'Frequency', 'Monetary']\n",
    "rfm.head()"
   ]
  },
  {
   "cell_type": "code",
   "execution_count": 22,
   "id": "d4b1e30e",
   "metadata": {},
   "outputs": [
    {
     "name": "stdout",
     "output_type": "stream",
     "text": [
      "Customers with exactly £0.00: 5\n",
      "Removing 5 customers with zero spending...\n",
      "Remaining customers: 4,317\n"
     ]
    }
   ],
   "source": [
    "# Check for customers with zero spending\n",
    "zero_customers = rfm[rfm['Monetary'] == 0.0]\n",
    "print(f\"Customers with exactly £0.00: {len(zero_customers)}\")\n",
    "\n",
    "if len(zero_customers) > 0:\n",
    "    print(f\"Removing {len(zero_customers)} customers with zero spending...\")\n",
    "    rfm = rfm[rfm['Monetary'] > 0].copy()\n",
    "    print(f\"Remaining customers: {len(rfm):,}\")"
   ]
  },
  {
   "cell_type": "code",
   "execution_count": 23,
   "id": "d31d0f16",
   "metadata": {
    "scrolled": true
   },
   "outputs": [
    {
     "data": {
      "text/html": [
       "<div>\n",
       "<style scoped>\n",
       "    .dataframe tbody tr th:only-of-type {\n",
       "        vertical-align: middle;\n",
       "    }\n",
       "\n",
       "    .dataframe tbody tr th {\n",
       "        vertical-align: top;\n",
       "    }\n",
       "\n",
       "    .dataframe thead th {\n",
       "        text-align: right;\n",
       "    }\n",
       "</style>\n",
       "<table border=\"1\" class=\"dataframe\">\n",
       "  <thead>\n",
       "    <tr style=\"text-align: right;\">\n",
       "      <th></th>\n",
       "      <th>Recency</th>\n",
       "      <th>Frequency</th>\n",
       "      <th>Monetary</th>\n",
       "    </tr>\n",
       "  </thead>\n",
       "  <tbody>\n",
       "    <tr>\n",
       "      <th>count</th>\n",
       "      <td>4317.000000</td>\n",
       "      <td>4317.000000</td>\n",
       "      <td>4317.000000</td>\n",
       "    </tr>\n",
       "    <tr>\n",
       "      <th>mean</th>\n",
       "      <td>90.370628</td>\n",
       "      <td>5.118601</td>\n",
       "      <td>1920.720074</td>\n",
       "    </tr>\n",
       "    <tr>\n",
       "      <th>std</th>\n",
       "      <td>99.157796</td>\n",
       "      <td>9.382156</td>\n",
       "      <td>8267.016057</td>\n",
       "    </tr>\n",
       "    <tr>\n",
       "      <th>min</th>\n",
       "      <td>1.000000</td>\n",
       "      <td>1.000000</td>\n",
       "      <td>2.900000</td>\n",
       "    </tr>\n",
       "    <tr>\n",
       "      <th>25%</th>\n",
       "      <td>17.000000</td>\n",
       "      <td>1.000000</td>\n",
       "      <td>301.030000</td>\n",
       "    </tr>\n",
       "    <tr>\n",
       "      <th>50%</th>\n",
       "      <td>49.000000</td>\n",
       "      <td>3.000000</td>\n",
       "      <td>653.750000</td>\n",
       "    </tr>\n",
       "    <tr>\n",
       "      <th>75%</th>\n",
       "      <td>138.000000</td>\n",
       "      <td>6.000000</td>\n",
       "      <td>1624.210000</td>\n",
       "    </tr>\n",
       "    <tr>\n",
       "      <th>max</th>\n",
       "      <td>374.000000</td>\n",
       "      <td>248.000000</td>\n",
       "      <td>279489.020000</td>\n",
       "    </tr>\n",
       "  </tbody>\n",
       "</table>\n",
       "</div>"
      ],
      "text/plain": [
       "           Recency    Frequency       Monetary\n",
       "count  4317.000000  4317.000000    4317.000000\n",
       "mean     90.370628     5.118601    1920.720074\n",
       "std      99.157796     9.382156    8267.016057\n",
       "min       1.000000     1.000000       2.900000\n",
       "25%      17.000000     1.000000     301.030000\n",
       "50%      49.000000     3.000000     653.750000\n",
       "75%     138.000000     6.000000    1624.210000\n",
       "max     374.000000   248.000000  279489.020000"
      ]
     },
     "execution_count": 23,
     "metadata": {},
     "output_type": "execute_result"
    }
   ],
   "source": [
    "# RFM statistics\n",
    "rfm.describe()"
   ]
  },
  {
   "cell_type": "markdown",
   "id": "be2f95e8",
   "metadata": {},
   "source": [
    "### 6.2 Top Customer Analysis"
   ]
  },
  {
   "cell_type": "code",
   "execution_count": 24,
   "id": "de6fd3d6",
   "metadata": {},
   "outputs": [
    {
     "name": "stdout",
     "output_type": "stream",
     "text": [
      "Most Recent Customers\n"
     ]
    },
    {
     "data": {
      "text/html": [
       "<div>\n",
       "<style scoped>\n",
       "    .dataframe tbody tr th:only-of-type {\n",
       "        vertical-align: middle;\n",
       "    }\n",
       "\n",
       "    .dataframe tbody tr th {\n",
       "        vertical-align: top;\n",
       "    }\n",
       "\n",
       "    .dataframe thead th {\n",
       "        text-align: right;\n",
       "    }\n",
       "</style>\n",
       "<table border=\"1\" class=\"dataframe\">\n",
       "  <thead>\n",
       "    <tr style=\"text-align: right;\">\n",
       "      <th></th>\n",
       "      <th>Recency</th>\n",
       "      <th>Frequency</th>\n",
       "      <th>Monetary</th>\n",
       "    </tr>\n",
       "    <tr>\n",
       "      <th>CustomerID</th>\n",
       "      <th></th>\n",
       "      <th></th>\n",
       "      <th></th>\n",
       "    </tr>\n",
       "  </thead>\n",
       "  <tbody>\n",
       "    <tr>\n",
       "      <th>12423.0</th>\n",
       "      <td>1</td>\n",
       "      <td>9</td>\n",
       "      <td>1849.11</td>\n",
       "    </tr>\n",
       "    <tr>\n",
       "      <th>12433.0</th>\n",
       "      <td>1</td>\n",
       "      <td>7</td>\n",
       "      <td>13375.87</td>\n",
       "    </tr>\n",
       "    <tr>\n",
       "      <th>12476.0</th>\n",
       "      <td>1</td>\n",
       "      <td>20</td>\n",
       "      <td>6546.58</td>\n",
       "    </tr>\n",
       "    <tr>\n",
       "      <th>12518.0</th>\n",
       "      <td>1</td>\n",
       "      <td>5</td>\n",
       "      <td>2056.89</td>\n",
       "    </tr>\n",
       "    <tr>\n",
       "      <th>12526.0</th>\n",
       "      <td>1</td>\n",
       "      <td>3</td>\n",
       "      <td>1316.66</td>\n",
       "    </tr>\n",
       "  </tbody>\n",
       "</table>\n",
       "</div>"
      ],
      "text/plain": [
       "            Recency  Frequency  Monetary\n",
       "CustomerID                              \n",
       "12423.0           1          9   1849.11\n",
       "12433.0           1          7  13375.87\n",
       "12476.0           1         20   6546.58\n",
       "12518.0           1          5   2056.89\n",
       "12526.0           1          3   1316.66"
      ]
     },
     "execution_count": 24,
     "metadata": {},
     "output_type": "execute_result"
    }
   ],
   "source": [
    "# Most recent customers\n",
    "print('Most Recent Customers')\n",
    "(rfm.nsmallest(5, 'Recency')[['Recency', 'Frequency', 'Monetary']])"
   ]
  },
  {
   "cell_type": "code",
   "execution_count": 25,
   "id": "df094e4a",
   "metadata": {},
   "outputs": [
    {
     "name": "stdout",
     "output_type": "stream",
     "text": [
      "Most Frequent Customers\n"
     ]
    },
    {
     "data": {
      "text/html": [
       "<div>\n",
       "<style scoped>\n",
       "    .dataframe tbody tr th:only-of-type {\n",
       "        vertical-align: middle;\n",
       "    }\n",
       "\n",
       "    .dataframe tbody tr th {\n",
       "        vertical-align: top;\n",
       "    }\n",
       "\n",
       "    .dataframe thead th {\n",
       "        text-align: right;\n",
       "    }\n",
       "</style>\n",
       "<table border=\"1\" class=\"dataframe\">\n",
       "  <thead>\n",
       "    <tr style=\"text-align: right;\">\n",
       "      <th></th>\n",
       "      <th>Recency</th>\n",
       "      <th>Frequency</th>\n",
       "      <th>Monetary</th>\n",
       "    </tr>\n",
       "    <tr>\n",
       "      <th>CustomerID</th>\n",
       "      <th></th>\n",
       "      <th></th>\n",
       "      <th></th>\n",
       "    </tr>\n",
       "  </thead>\n",
       "  <tbody>\n",
       "    <tr>\n",
       "      <th>14911.0</th>\n",
       "      <td>1</td>\n",
       "      <td>248</td>\n",
       "      <td>132458.73</td>\n",
       "    </tr>\n",
       "    <tr>\n",
       "      <th>12748.0</th>\n",
       "      <td>1</td>\n",
       "      <td>223</td>\n",
       "      <td>28405.56</td>\n",
       "    </tr>\n",
       "    <tr>\n",
       "      <th>17841.0</th>\n",
       "      <td>2</td>\n",
       "      <td>169</td>\n",
       "      <td>39869.05</td>\n",
       "    </tr>\n",
       "    <tr>\n",
       "      <th>14606.0</th>\n",
       "      <td>1</td>\n",
       "      <td>128</td>\n",
       "      <td>11633.35</td>\n",
       "    </tr>\n",
       "    <tr>\n",
       "      <th>13089.0</th>\n",
       "      <td>3</td>\n",
       "      <td>118</td>\n",
       "      <td>57322.13</td>\n",
       "    </tr>\n",
       "  </tbody>\n",
       "</table>\n",
       "</div>"
      ],
      "text/plain": [
       "            Recency  Frequency   Monetary\n",
       "CustomerID                               \n",
       "14911.0           1        248  132458.73\n",
       "12748.0           1        223   28405.56\n",
       "17841.0           2        169   39869.05\n",
       "14606.0           1        128   11633.35\n",
       "13089.0           3        118   57322.13"
      ]
     },
     "execution_count": 25,
     "metadata": {},
     "output_type": "execute_result"
    }
   ],
   "source": [
    "# Most Frequent Customers\n",
    "print('Most Frequent Customers')\n",
    "(rfm.nlargest(5, 'Frequency')[['Recency', 'Frequency', 'Monetary']])"
   ]
  },
  {
   "cell_type": "markdown",
   "id": "6841df82",
   "metadata": {},
   "source": [
    "### 6.3 Additional Customer Metrics"
   ]
  },
  {
   "cell_type": "code",
   "execution_count": 26,
   "id": "a519ba1d",
   "metadata": {},
   "outputs": [],
   "source": [
    "# Calculate additional customer metrics\n",
    "customer_metrics = df_clean.groupby('CustomerID').agg({\n",
    "    'TotalAmount' : ['sum', 'mean'],\n",
    "    'Quantity' : 'sum',\n",
    "    'InvoiceDate' : ['min', 'max'],\n",
    "    'InvoiceNo' : 'nunique'\n",
    "}).round(2)"
   ]
  },
  {
   "cell_type": "code",
   "execution_count": 27,
   "id": "db89ea96",
   "metadata": {},
   "outputs": [
    {
     "data": {
      "text/html": [
       "<div>\n",
       "<style scoped>\n",
       "    .dataframe tbody tr th:only-of-type {\n",
       "        vertical-align: middle;\n",
       "    }\n",
       "\n",
       "    .dataframe tbody tr th {\n",
       "        vertical-align: top;\n",
       "    }\n",
       "\n",
       "    .dataframe thead th {\n",
       "        text-align: right;\n",
       "    }\n",
       "</style>\n",
       "<table border=\"1\" class=\"dataframe\">\n",
       "  <thead>\n",
       "    <tr style=\"text-align: right;\">\n",
       "      <th></th>\n",
       "      <th>TotalSpent</th>\n",
       "      <th>Ave_Transaction_value</th>\n",
       "      <th>TotalQuantity</th>\n",
       "      <th>First_Purchase</th>\n",
       "      <th>Last_Purchase</th>\n",
       "      <th>Uniqueorders</th>\n",
       "    </tr>\n",
       "    <tr>\n",
       "      <th>CustomerID</th>\n",
       "      <th></th>\n",
       "      <th></th>\n",
       "      <th></th>\n",
       "      <th></th>\n",
       "      <th></th>\n",
       "      <th></th>\n",
       "    </tr>\n",
       "  </thead>\n",
       "  <tbody>\n",
       "    <tr>\n",
       "      <th>12347.0</th>\n",
       "      <td>4310.00</td>\n",
       "      <td>23.68</td>\n",
       "      <td>2458</td>\n",
       "      <td>2010-12-07 14:57:00</td>\n",
       "      <td>2011-12-07 15:52:00</td>\n",
       "      <td>7</td>\n",
       "    </tr>\n",
       "    <tr>\n",
       "      <th>12348.0</th>\n",
       "      <td>1797.24</td>\n",
       "      <td>57.98</td>\n",
       "      <td>2341</td>\n",
       "      <td>2010-12-16 19:09:00</td>\n",
       "      <td>2011-09-25 13:13:00</td>\n",
       "      <td>4</td>\n",
       "    </tr>\n",
       "    <tr>\n",
       "      <th>12349.0</th>\n",
       "      <td>1757.55</td>\n",
       "      <td>24.08</td>\n",
       "      <td>631</td>\n",
       "      <td>2011-11-21 09:51:00</td>\n",
       "      <td>2011-11-21 09:51:00</td>\n",
       "      <td>1</td>\n",
       "    </tr>\n",
       "    <tr>\n",
       "      <th>12350.0</th>\n",
       "      <td>334.40</td>\n",
       "      <td>19.67</td>\n",
       "      <td>197</td>\n",
       "      <td>2011-02-02 16:01:00</td>\n",
       "      <td>2011-02-02 16:01:00</td>\n",
       "      <td>1</td>\n",
       "    </tr>\n",
       "    <tr>\n",
       "      <th>12352.0</th>\n",
       "      <td>1545.41</td>\n",
       "      <td>16.27</td>\n",
       "      <td>470</td>\n",
       "      <td>2011-02-16 12:33:00</td>\n",
       "      <td>2011-11-03 14:37:00</td>\n",
       "      <td>11</td>\n",
       "    </tr>\n",
       "  </tbody>\n",
       "</table>\n",
       "</div>"
      ],
      "text/plain": [
       "            TotalSpent  Ave_Transaction_value  TotalQuantity  \\\n",
       "CustomerID                                                     \n",
       "12347.0        4310.00                  23.68           2458   \n",
       "12348.0        1797.24                  57.98           2341   \n",
       "12349.0        1757.55                  24.08            631   \n",
       "12350.0         334.40                  19.67            197   \n",
       "12352.0        1545.41                  16.27            470   \n",
       "\n",
       "                First_Purchase       Last_Purchase  Uniqueorders  \n",
       "CustomerID                                                        \n",
       "12347.0    2010-12-07 14:57:00 2011-12-07 15:52:00             7  \n",
       "12348.0    2010-12-16 19:09:00 2011-09-25 13:13:00             4  \n",
       "12349.0    2011-11-21 09:51:00 2011-11-21 09:51:00             1  \n",
       "12350.0    2011-02-02 16:01:00 2011-02-02 16:01:00             1  \n",
       "12352.0    2011-02-16 12:33:00 2011-11-03 14:37:00            11  "
      ]
     },
     "execution_count": 27,
     "metadata": {},
     "output_type": "execute_result"
    }
   ],
   "source": [
    "# Rename columns\n",
    "customer_metrics.columns = ['TotalSpent', 'Ave_Transaction_value', 'TotalQuantity', 'First_Purchase', 'Last_Purchase', 'Uniqueorders']\n",
    "customer_metrics.head()"
   ]
  },
  {
   "cell_type": "code",
   "execution_count": 28,
   "id": "4a217a56",
   "metadata": {
    "scrolled": true
   },
   "outputs": [
    {
     "data": {
      "text/html": [
       "<div>\n",
       "<style scoped>\n",
       "    .dataframe tbody tr th:only-of-type {\n",
       "        vertical-align: middle;\n",
       "    }\n",
       "\n",
       "    .dataframe tbody tr th {\n",
       "        vertical-align: top;\n",
       "    }\n",
       "\n",
       "    .dataframe thead th {\n",
       "        text-align: right;\n",
       "    }\n",
       "</style>\n",
       "<table border=\"1\" class=\"dataframe\">\n",
       "  <thead>\n",
       "    <tr style=\"text-align: right;\">\n",
       "      <th></th>\n",
       "      <th>TotalSpent</th>\n",
       "      <th>Ave_Transaction_value</th>\n",
       "      <th>TotalQuantity</th>\n",
       "      <th>First_Purchase</th>\n",
       "      <th>Last_Purchase</th>\n",
       "      <th>Uniqueorders</th>\n",
       "      <th>PurchaseDateRange</th>\n",
       "      <th>Avg_Order_Values</th>\n",
       "    </tr>\n",
       "    <tr>\n",
       "      <th>CustomerID</th>\n",
       "      <th></th>\n",
       "      <th></th>\n",
       "      <th></th>\n",
       "      <th></th>\n",
       "      <th></th>\n",
       "      <th></th>\n",
       "      <th></th>\n",
       "      <th></th>\n",
       "    </tr>\n",
       "  </thead>\n",
       "  <tbody>\n",
       "    <tr>\n",
       "      <th>12347.0</th>\n",
       "      <td>4310.00</td>\n",
       "      <td>23.68</td>\n",
       "      <td>2458</td>\n",
       "      <td>2010-12-07 14:57:00</td>\n",
       "      <td>2011-12-07 15:52:00</td>\n",
       "      <td>7</td>\n",
       "      <td>365</td>\n",
       "      <td>615.71</td>\n",
       "    </tr>\n",
       "    <tr>\n",
       "      <th>12348.0</th>\n",
       "      <td>1797.24</td>\n",
       "      <td>57.98</td>\n",
       "      <td>2341</td>\n",
       "      <td>2010-12-16 19:09:00</td>\n",
       "      <td>2011-09-25 13:13:00</td>\n",
       "      <td>4</td>\n",
       "      <td>282</td>\n",
       "      <td>449.31</td>\n",
       "    </tr>\n",
       "    <tr>\n",
       "      <th>12349.0</th>\n",
       "      <td>1757.55</td>\n",
       "      <td>24.08</td>\n",
       "      <td>631</td>\n",
       "      <td>2011-11-21 09:51:00</td>\n",
       "      <td>2011-11-21 09:51:00</td>\n",
       "      <td>1</td>\n",
       "      <td>0</td>\n",
       "      <td>1757.55</td>\n",
       "    </tr>\n",
       "    <tr>\n",
       "      <th>12350.0</th>\n",
       "      <td>334.40</td>\n",
       "      <td>19.67</td>\n",
       "      <td>197</td>\n",
       "      <td>2011-02-02 16:01:00</td>\n",
       "      <td>2011-02-02 16:01:00</td>\n",
       "      <td>1</td>\n",
       "      <td>0</td>\n",
       "      <td>334.40</td>\n",
       "    </tr>\n",
       "    <tr>\n",
       "      <th>12352.0</th>\n",
       "      <td>1545.41</td>\n",
       "      <td>16.27</td>\n",
       "      <td>470</td>\n",
       "      <td>2011-02-16 12:33:00</td>\n",
       "      <td>2011-11-03 14:37:00</td>\n",
       "      <td>11</td>\n",
       "      <td>260</td>\n",
       "      <td>140.49</td>\n",
       "    </tr>\n",
       "  </tbody>\n",
       "</table>\n",
       "</div>"
      ],
      "text/plain": [
       "            TotalSpent  Ave_Transaction_value  TotalQuantity  \\\n",
       "CustomerID                                                     \n",
       "12347.0        4310.00                  23.68           2458   \n",
       "12348.0        1797.24                  57.98           2341   \n",
       "12349.0        1757.55                  24.08            631   \n",
       "12350.0         334.40                  19.67            197   \n",
       "12352.0        1545.41                  16.27            470   \n",
       "\n",
       "                First_Purchase       Last_Purchase  Uniqueorders  \\\n",
       "CustomerID                                                         \n",
       "12347.0    2010-12-07 14:57:00 2011-12-07 15:52:00             7   \n",
       "12348.0    2010-12-16 19:09:00 2011-09-25 13:13:00             4   \n",
       "12349.0    2011-11-21 09:51:00 2011-11-21 09:51:00             1   \n",
       "12350.0    2011-02-02 16:01:00 2011-02-02 16:01:00             1   \n",
       "12352.0    2011-02-16 12:33:00 2011-11-03 14:37:00            11   \n",
       "\n",
       "            PurchaseDateRange  Avg_Order_Values  \n",
       "CustomerID                                       \n",
       "12347.0                   365            615.71  \n",
       "12348.0                   282            449.31  \n",
       "12349.0                     0           1757.55  \n",
       "12350.0                     0            334.40  \n",
       "12352.0                   260            140.49  "
      ]
     },
     "execution_count": 28,
     "metadata": {},
     "output_type": "execute_result"
    }
   ],
   "source": [
    "# Calculate date range (days between first and last purchase)\n",
    "customer_metrics['PurchaseDateRange'] = (\n",
    "    customer_metrics['Last_Purchase'] - customer_metrics['First_Purchase']\n",
    ").dt.days\n",
    "\n",
    "# Calculate Average Order Value (per order)\n",
    "order_totals = df_clean.groupby(['CustomerID', 'InvoiceNo'])['TotalAmount'].sum()\n",
    "customer_aov = order_totals.groupby('CustomerID').mean().round(2)\n",
    "customer_metrics['Avg_Order_Values'] = customer_aov\n",
    "\n",
    "customer_metrics.head()"
   ]
  },
  {
   "cell_type": "code",
   "execution_count": 29,
   "id": "c30839cd",
   "metadata": {},
   "outputs": [
    {
     "name": "stdout",
     "output_type": "stream",
     "text": [
      "1. Average Order Value : \n",
      "\t Overall AOV : £ 320.77\n",
      "\t AOV range : £ 0.00 - £ 6207.67\n",
      "\n",
      "2. Total Quantity Purchased :\n",
      "\t Average per customer: 1129 items\n",
      "\t Range: 0 - 196143 items\n",
      "\n",
      "3. Purchase Date Range :\n",
      "\t Average customer lifespan: 135 days\n",
      "\t Range: 0 - 373 days\n"
     ]
    }
   ],
   "source": [
    "print('1. Average Order Value : ')\n",
    "print(f\"\\t Overall AOV : £ {customer_aov.mean():.2f}\")\n",
    "print(f\"\\t AOV range : £ {customer_aov.min():.2f} - £ {customer_aov.max():.2f}\")\n",
    "\n",
    "print(f\"\\n2. Total Quantity Purchased :\")\n",
    "print(f\"\\t Average per customer: {customer_metrics['TotalQuantity'].mean():.0f} items\")\n",
    "print(f\"\\t Range: {customer_metrics['TotalQuantity'].min():.0f} - {customer_metrics['TotalQuantity'].max():.0f} items\")\n",
    "\n",
    "print(f\"\\n3. Purchase Date Range :\")\n",
    "print(f\"\\t Average customer lifespan: {customer_metrics['PurchaseDateRange'].mean():.0f} days\")\n",
    "print(f\"\\t Range: {customer_metrics['PurchaseDateRange'].min():.0f} - {customer_metrics['PurchaseDateRange'].max():.0f} days\")"
   ]
  },
  {
   "cell_type": "markdown",
   "id": "e53a03c1",
   "metadata": {},
   "source": [
    "## 7. Customer Segmentation"
   ]
  },
  {
   "cell_type": "markdown",
   "id": "dbadac5d",
   "metadata": {},
   "source": [
    "### 7.1 Determine Optimal Number of Clusters"
   ]
  },
  {
   "cell_type": "code",
   "execution_count": 30,
   "id": "f057e0ed",
   "metadata": {},
   "outputs": [],
   "source": [
    "# Prepare data for clustering (normalize the RFM values)\n",
    "scaler = StandardScaler()\n",
    "rfm_scaled = scaler.fit_transform(rfm)"
   ]
  },
  {
   "cell_type": "code",
   "execution_count": 31,
   "id": "b4b49257",
   "metadata": {},
   "outputs": [],
   "source": [
    "# Test different numbers of clusters\n",
    "inertias = []\n",
    "silhouette_scores = []\n",
    "k_range = range(2,11)\n",
    "\n",
    "for k in k_range:\n",
    "    kmeans = KMeans(n_clusters = k, random_state = 42)\n",
    "    cluster_labels = kmeans.fit_predict(rfm_scaled)\n",
    "    inertias.append(kmeans.inertia_)\n",
    "    silhouette_scores.append(silhouette_score(rfm_scaled, cluster_labels))"
   ]
  },
  {
   "cell_type": "code",
   "execution_count": 32,
   "id": "76d76fe1",
   "metadata": {
    "scrolled": false
   },
   "outputs": [
    {
     "data": {
      "image/png": "[encoded data removed]",
      "text/plain": [
       "<Figure size 1500x600 with 2 Axes>"
      ]
     },
     "metadata": {},
     "output_type": "display_data"
    }
   ],
   "source": [
    "# Plot both methods\n",
    "fig, (ax1, ax2) = plt.subplots(1, 2, figsize = (15,6))\n",
    "\n",
    "#Elbow method\n",
    "ax1.plot(k_range, inertias, 'bo-')\n",
    "ax1.set_xlabel('Number od Clusters (k)')\n",
    "ax1.set_ylabel('Inertial')\n",
    "ax1.set_title('Elbow Method')\n",
    "ax1.grid(True)\n",
    "\n",
    "# Silhouette score\n",
    "ax2.plot(k_range, silhouette_scores, 'ro-')\n",
    "ax2.set_xlabel('Number of Clusters (k)')\n",
    "ax2.set_ylabel('Silhouette Score')\n",
    "ax2.set_title('Silhouette Score Analysis')\n",
    "ax2.grid(True)\n",
    "\n",
    "plt.tight_layout()\n",
    "plt.show()"
   ]
  },
  {
   "cell_type": "code",
   "execution_count": 33,
   "id": "b2da447d",
   "metadata": {},
   "outputs": [
    {
     "name": "stdout",
     "output_type": "stream",
     "text": [
      "2\t9311.92\t\t0.5580\n",
      "3\t5463.56\t\t0.5911\n",
      "4\t4039.92\t\t0.6151\n",
      "5\t3520.21\t\t0.4797\n",
      "6\t2530.28\t\t0.5141\n",
      "7\t1890.94\t\t0.5161\n",
      "8\t1713.65\t\t0.5177\n",
      "9\t1484.87\t\t0.5138\n",
      "10\t1306.38\t\t0.4084\n",
      "\n",
      "Optimal number of clusters based on:\n",
      "• Highest Silhouette Score: k=4 (score: 0.6151)\n"
     ]
    }
   ],
   "source": [
    "for k, inertia, silhouette in zip(k_range, inertias, silhouette_scores):\n",
    "    print(f\"{k}\\t{inertia:.2f}\\t\\t{silhouette:.4f}\")\n",
    "\n",
    "print(f\"\\nOptimal number of clusters based on:\")\n",
    "print(f\"• Highest Silhouette Score: k={k_range[silhouette_scores.index(max(silhouette_scores))]} (score: {max(silhouette_scores):.4f})\")"
   ]
  },
  {
   "cell_type": "markdown",
   "id": "6282b859",
   "metadata": {},
   "source": [
    "### 7.2 Apply K-Means Clustering"
   ]
  },
  {
   "cell_type": "code",
   "execution_count": 34,
   "id": "bce3ec8a",
   "metadata": {},
   "outputs": [
    {
     "data": {
      "text/html": [
       "<div>\n",
       "<style scoped>\n",
       "    .dataframe tbody tr th:only-of-type {\n",
       "        vertical-align: middle;\n",
       "    }\n",
       "\n",
       "    .dataframe tbody tr th {\n",
       "        vertical-align: top;\n",
       "    }\n",
       "\n",
       "    .dataframe thead th {\n",
       "        text-align: right;\n",
       "    }\n",
       "</style>\n",
       "<table border=\"1\" class=\"dataframe\">\n",
       "  <thead>\n",
       "    <tr style=\"text-align: right;\">\n",
       "      <th></th>\n",
       "      <th>Recency</th>\n",
       "      <th>Frequency</th>\n",
       "      <th>Monetary</th>\n",
       "      <th>Cluster</th>\n",
       "    </tr>\n",
       "    <tr>\n",
       "      <th>CustomerID</th>\n",
       "      <th></th>\n",
       "      <th></th>\n",
       "      <th></th>\n",
       "      <th></th>\n",
       "    </tr>\n",
       "  </thead>\n",
       "  <tbody>\n",
       "    <tr>\n",
       "      <th>12347.0</th>\n",
       "      <td>2</td>\n",
       "      <td>7</td>\n",
       "      <td>4310.00</td>\n",
       "      <td>3</td>\n",
       "    </tr>\n",
       "    <tr>\n",
       "      <th>12348.0</th>\n",
       "      <td>75</td>\n",
       "      <td>4</td>\n",
       "      <td>1797.24</td>\n",
       "      <td>3</td>\n",
       "    </tr>\n",
       "    <tr>\n",
       "      <th>12349.0</th>\n",
       "      <td>19</td>\n",
       "      <td>1</td>\n",
       "      <td>1757.55</td>\n",
       "      <td>3</td>\n",
       "    </tr>\n",
       "    <tr>\n",
       "      <th>12350.0</th>\n",
       "      <td>310</td>\n",
       "      <td>1</td>\n",
       "      <td>334.40</td>\n",
       "      <td>1</td>\n",
       "    </tr>\n",
       "    <tr>\n",
       "      <th>12352.0</th>\n",
       "      <td>36</td>\n",
       "      <td>11</td>\n",
       "      <td>1545.41</td>\n",
       "      <td>3</td>\n",
       "    </tr>\n",
       "  </tbody>\n",
       "</table>\n",
       "</div>"
      ],
      "text/plain": [
       "            Recency  Frequency  Monetary  Cluster\n",
       "CustomerID                                       \n",
       "12347.0           2          7   4310.00        3\n",
       "12348.0          75          4   1797.24        3\n",
       "12349.0          19          1   1757.55        3\n",
       "12350.0         310          1    334.40        1\n",
       "12352.0          36         11   1545.41        3"
      ]
     },
     "execution_count": 34,
     "metadata": {},
     "output_type": "execute_result"
    }
   ],
   "source": [
    "# Based on the analysis:\n",
    "# Elbow method: Shows elbow around k=4\n",
    "# Silhouette score: Highest at k=4 (0.62)\n",
    "optimal_clusters = 4\n",
    "\n",
    "# Apply K-means with optimal clusters\n",
    "kmeans = KMeans(n_clusters=optimal_clusters, random_state=42)\n",
    "rfm['Cluster'] = kmeans.fit_predict(rfm_scaled)\n",
    "rfm.head()"
   ]
  },
  {
   "cell_type": "code",
   "execution_count": 35,
   "id": "ec6b4196",
   "metadata": {},
   "outputs": [
    {
     "name": "stdout",
     "output_type": "stream",
     "text": [
      "  Cluster 0: 193 customers (4.5%)\n",
      "  Cluster 1: 1,054 customers (24.4%)\n",
      "  Cluster 2: 11 customers (0.3%)\n",
      "  Cluster 3: 3,059 customers (70.9%)\n"
     ]
    }
   ],
   "source": [
    "# Show cluster sizes\n",
    "cluster_sizes = rfm['Cluster'].value_counts().sort_index()\n",
    "for i in range(optimal_clusters):\n",
    "    print(f\"  Cluster {i}: {cluster_sizes[i]:,} customers ({cluster_sizes[i]/len(rfm)*100:.1f}%)\")"
   ]
  },
  {
   "cell_type": "code",
   "execution_count": 36,
   "id": "44a21edc",
   "metadata": {},
   "outputs": [
    {
     "data": {
      "text/html": [
       "<div>\n",
       "<style scoped>\n",
       "    .dataframe tbody tr th:only-of-type {\n",
       "        vertical-align: middle;\n",
       "    }\n",
       "\n",
       "    .dataframe tbody tr th {\n",
       "        vertical-align: top;\n",
       "    }\n",
       "\n",
       "    .dataframe thead th {\n",
       "        text-align: right;\n",
       "    }\n",
       "</style>\n",
       "<table border=\"1\" class=\"dataframe\">\n",
       "  <thead>\n",
       "    <tr style=\"text-align: right;\">\n",
       "      <th></th>\n",
       "      <th>Recency</th>\n",
       "      <th>Frequency</th>\n",
       "      <th>Monetary</th>\n",
       "    </tr>\n",
       "    <tr>\n",
       "      <th>Cluster</th>\n",
       "      <th></th>\n",
       "      <th></th>\n",
       "      <th></th>\n",
       "    </tr>\n",
       "  </thead>\n",
       "  <tbody>\n",
       "    <tr>\n",
       "      <th>0</th>\n",
       "      <td>10.79</td>\n",
       "      <td>28.58</td>\n",
       "      <td>12190.96</td>\n",
       "    </tr>\n",
       "    <tr>\n",
       "      <th>1</th>\n",
       "      <td>245.64</td>\n",
       "      <td>1.85</td>\n",
       "      <td>488.70</td>\n",
       "    </tr>\n",
       "    <tr>\n",
       "      <th>2</th>\n",
       "      <td>5.09</td>\n",
       "      <td>109.73</td>\n",
       "      <td>124150.43</td>\n",
       "    </tr>\n",
       "    <tr>\n",
       "      <th>3</th>\n",
       "      <td>42.20</td>\n",
       "      <td>4.39</td>\n",
       "      <td>1326.62</td>\n",
       "    </tr>\n",
       "  </tbody>\n",
       "</table>\n",
       "</div>"
      ],
      "text/plain": [
       "         Recency  Frequency   Monetary\n",
       "Cluster                               \n",
       "0          10.79      28.58   12190.96\n",
       "1         245.64       1.85     488.70\n",
       "2           5.09     109.73  124150.43\n",
       "3          42.20       4.39    1326.62"
      ]
     },
     "execution_count": 36,
     "metadata": {},
     "output_type": "execute_result"
    }
   ],
   "source": [
    "# Show cluster characteristics\n",
    "cluster_summary = rfm.groupby('Cluster').agg({\n",
    "    'Recency': 'mean',\n",
    "    'Frequency': 'mean', \n",
    "    'Monetary': 'mean'\n",
    "}).round(2)\n",
    "cluster_summary"
   ]
  },
  {
   "cell_type": "markdown",
   "id": "79bb02d1",
   "metadata": {},
   "source": [
    "## 8. Segment Analysis & Visualization"
   ]
  },
  {
   "cell_type": "markdown",
   "id": "99d6009f",
   "metadata": {},
   "source": [
    "### 8.1 Customer Segment Profiles"
   ]
  },
  {
   "cell_type": "code",
   "execution_count": 37,
   "id": "7035246e",
   "metadata": {},
   "outputs": [],
   "source": [
    "# Analyze and name customer segments based on RFM characteristics\n",
    "segment_names = {\n",
    "    0: \"High Value Customers\",\n",
    "    1: \"At-Rist/Lost Customers\",\n",
    "    2: \"VIP Customers\", \n",
    "    3: \"Regular Customers\"\n",
    "}"
   ]
  },
  {
   "cell_type": "code",
   "execution_count": 38,
   "id": "224132f0",
   "metadata": {},
   "outputs": [
    {
     "name": "stdout",
     "output_type": "stream",
     "text": [
      "\n",
      "CLUSTER 0: High Value Customers\n",
      "   Size: 193 customers (4.5%)\n",
      "   Recency: 11 days (last purchase)\n",
      "   Frequency: 28.6 transactions\n",
      "   Monetary: £12190.96 average spending\n",
      "\n",
      "CLUSTER 1: At-Rist/Lost Customers\n",
      "   Size: 1,054 customers (24.4%)\n",
      "   Recency: 246 days (last purchase)\n",
      "   Frequency: 1.9 transactions\n",
      "   Monetary: £488.70 average spending\n",
      "\n",
      "CLUSTER 2: VIP Customers\n",
      "   Size: 11 customers (0.3%)\n",
      "   Recency: 5 days (last purchase)\n",
      "   Frequency: 109.7 transactions\n",
      "   Monetary: £124150.43 average spending\n",
      "\n",
      "CLUSTER 3: Regular Customers\n",
      "   Size: 3,059 customers (70.9%)\n",
      "   Recency: 42 days (last purchase)\n",
      "   Frequency: 4.4 transactions\n",
      "   Monetary: £1326.62 average spending\n"
     ]
    }
   ],
   "source": [
    "# Cluster Profiling\n",
    "for cluster in range(4):\n",
    "    cluster_data = rfm[rfm['Cluster'] == cluster]\n",
    "    size = len(cluster_data)\n",
    "    percentage = (size / len(rfm) * 100)\n",
    "    \n",
    "    print(f\"\\nCLUSTER {cluster}: {segment_names[cluster]}\")\n",
    "    print(f\"   Size: {size:,} customers ({percentage:.1f}%)\")\n",
    "    print(f\"   Recency: {cluster_data['Recency'].mean():.0f} days (last purchase)\")\n",
    "    print(f\"   Frequency: {cluster_data['Frequency'].mean():.1f} transactions\")\n",
    "    print(f\"   Monetary: £{cluster_data['Monetary'].mean():.2f} average spending\")"
   ]
  },
  {
   "cell_type": "markdown",
   "id": "7fb57386",
   "metadata": {},
   "source": [
    "### 8.2 Segment Visualization"
   ]
  },
  {
   "cell_type": "markdown",
   "id": "01b08e97",
   "metadata": {},
   "source": [
    "#### 8.2.1 Recency vs Montary Analysis"
   ]
  },
  {
   "cell_type": "code",
   "execution_count": 39,
   "id": "a2d2bc65",
   "metadata": {},
   "outputs": [
    {
     "data": {
      "image/png": "[encoded data removed]",
      "text/plain": [
       "<Figure size 1200x800 with 1 Axes>"
      ]
     },
     "metadata": {},
     "output_type": "display_data"
    }
   ],
   "source": [
    "# 1. Recency vs Monetary visualization\n",
    "plt.figure(figsize=(12, 8))\n",
    "\n",
    "colors = ['#ff7f0e', '#2ca02c', '#d62728', '#9467bd']\n",
    "segment_names_short = ['High-Value', 'At-Risk/Lost', 'VIP', 'Regular']\n",
    "\n",
    "for i in range(4):\n",
    "    cluster_data = rfm[rfm['Cluster'] == i]\n",
    "    plt.scatter(cluster_data['Recency'], cluster_data['Monetary'], \n",
    "               c=colors[i], label=f'Cluster {i}: {segment_names_short[i]}', \n",
    "               alpha=0.7, s=50)\n",
    "\n",
    "plt.xlabel('Recency (Days Since Last Purchase)', fontsize=12)\n",
    "plt.ylabel('Monetary (Total Spending £)', fontsize=12)\n",
    "plt.title('Customer Segments: Recency vs Monetary Value', fontsize=14, fontweight='bold')\n",
    "plt.legend()\n",
    "plt.grid(True, alpha=0.3)\n",
    "plt.show()"
   ]
  },
  {
   "cell_type": "code",
   "execution_count": 40,
   "id": "da167342",
   "metadata": {},
   "outputs": [
    {
     "data": {
      "text/html": [
       "<div>\n",
       "<style scoped>\n",
       "    .dataframe tbody tr th:only-of-type {\n",
       "        vertical-align: middle;\n",
       "    }\n",
       "\n",
       "    .dataframe tbody tr th {\n",
       "        vertical-align: top;\n",
       "    }\n",
       "\n",
       "    .dataframe thead th {\n",
       "        text-align: right;\n",
       "    }\n",
       "</style>\n",
       "<table border=\"1\" class=\"dataframe\">\n",
       "  <thead>\n",
       "    <tr style=\"text-align: right;\">\n",
       "      <th></th>\n",
       "      <th>Recency</th>\n",
       "      <th>Frequency</th>\n",
       "      <th>Monetary</th>\n",
       "      <th>Cluster</th>\n",
       "    </tr>\n",
       "    <tr>\n",
       "      <th>CustomerID</th>\n",
       "      <th></th>\n",
       "      <th></th>\n",
       "      <th></th>\n",
       "      <th></th>\n",
       "    </tr>\n",
       "  </thead>\n",
       "  <tbody>\n",
       "    <tr>\n",
       "      <th>17850.0</th>\n",
       "      <td>302</td>\n",
       "      <td>35</td>\n",
       "      <td>5303.48</td>\n",
       "      <td>0</td>\n",
       "    </tr>\n",
       "  </tbody>\n",
       "</table>\n",
       "</div>"
      ],
      "text/plain": [
       "            Recency  Frequency  Monetary  Cluster\n",
       "CustomerID                                       \n",
       "17850.0         302         35   5303.48        0"
      ]
     },
     "execution_count": 40,
     "metadata": {},
     "output_type": "execute_result"
    }
   ],
   "source": [
    "cluster_3_high_recency = rfm[(rfm['Cluster'] == 0) & (rfm['Recency'] > 250)]\n",
    "cluster_3_high_recency"
   ]
  },
  {
   "cell_type": "markdown",
   "id": "206aae89",
   "metadata": {},
   "source": [
    "**Interpretation of the graph:**\n",
    "\n",
    "This customer segmentation graph shows four distinct groups in order of priority: \n",
    "\n",
    "Cluster 2 (Red) - VIP customers are the most valuable, making recent purchases (0-30 days) with enormous spending (up to £275,000+)\n",
    "\n",
    "\n",
    "Cluster 0 (Orange) - High-Value customers are recent purchasers (0-50 days) with solid high spending (£10k-£70k range) and represent excellent growth opportunities\n",
    "\n",
    "\n",
    "Cluster 3 (Purple) - Regular customers have purchased recently (0-150 days) with low to moderate spending (under £15k) and form the stable customer base\n",
    "\n",
    "\n",
    "Cluster 1 (Green) - At-Risk/Lost customers haven't purchased in months (150-400+ days) with minimal spending and need immediate reactivation efforts.\n",
    "\n",
    "\n",
    "However, there's an exceptional case of Customer ID 17850 from the orange cluster (High-Value) who hasn't purchased in 302 days but has high frequency (35 transactions) and significant monetary value (£5,303.48), suggesting this is a previously loyal, valuable customer who may have temporarily stopped purchasing but retains high potential."
   ]
  },
  {
   "cell_type": "markdown",
   "id": "76fd618c",
   "metadata": {},
   "source": [
    "#### 8.2.2 Frequency vs Monetary Analysis"
   ]
  },
  {
   "cell_type": "code",
   "execution_count": 41,
   "id": "f687704b",
   "metadata": {},
   "outputs": [
    {
     "data": {
      "image/png": "[encoded data removed]",
      "text/plain": [
       "<Figure size 1200x800 with 1 Axes>"
      ]
     },
     "metadata": {},
     "output_type": "display_data"
    }
   ],
   "source": [
    "# 2. Frequency vs Monetary visualization\n",
    "plt.figure(figsize=(12, 8))\n",
    "\n",
    "for i in range(4):\n",
    "    cluster_data = rfm[rfm['Cluster'] == i]\n",
    "    plt.scatter(cluster_data['Frequency'], cluster_data['Monetary'], \n",
    "               c=colors[i], label=f'Cluster {i}: {segment_names_short[i]}', \n",
    "               alpha=0.7, s=50)\n",
    "\n",
    "plt.xlabel('Frequency (Number of Transactions)', fontsize=12)\n",
    "plt.ylabel('Monetary (Total Spending £)', fontsize=12)\n",
    "plt.title('Customer Segments: Frequency vs Monetary Value', fontsize=14, fontweight='bold')\n",
    "plt.legend()\n",
    "plt.grid(True, alpha=0.3)\n",
    "plt.show()"
   ]
  },
  {
   "cell_type": "markdown",
   "id": "38f71094",
   "metadata": {},
   "source": [
    "**Interpretation of the graph:**\n",
    "\n",
    "\n",
    "This customer segmentation graph shows four distinct groups based on purchase frequency and spending\n",
    "\n",
    "\n",
    "Cluster 2 (Red) - VIP customers are the most valuable, containing customers who shop very frequently (50-250+ transactions) and spend enormous amounts (up to £275,000+)\n",
    "\n",
    "\n",
    "Cluster 0 (Orange) - High-Value customers shop regularly (10-80 transactions) with high spending (£10k-£70k) and are good targets for VIP upgrade programs\n",
    "\n",
    "\n",
    "Cluster 3 (Purple) - Regular customers represent typical customers who shop occasionally (1-20 transactions) with low spending and form the stable base\n",
    "\n",
    "\n",
    "Cluster 1 (Green) - At-Risk/Lost customers have minimal activity (1-5 transactions) with very low spending and need immediate attention."
   ]
  },
  {
   "cell_type": "markdown",
   "id": "23a1bee8",
   "metadata": {},
   "source": [
    "#### 8.2.3 Recency vs Frequency Analysis"
   ]
  },
  {
   "cell_type": "code",
   "execution_count": 42,
   "id": "c638b6e7",
   "metadata": {},
   "outputs": [
    {
     "data": {
      "image/png": "[encoded data removed]",
      "text/plain": [
       "<Figure size 1200x800 with 1 Axes>"
      ]
     },
     "metadata": {},
     "output_type": "display_data"
    }
   ],
   "source": [
    "# 3. Recency vs Frequency visualization\n",
    "plt.figure(figsize=(12, 8))\n",
    "\n",
    "for i in range(4):\n",
    "    cluster_data = rfm[rfm['Cluster'] == i]\n",
    "    plt.scatter(cluster_data['Recency'], cluster_data['Frequency'], \n",
    "               c=colors[i], label=f'Cluster {i}: {segment_names_short[i]}', \n",
    "               alpha=0.7, s=50)\n",
    "\n",
    "plt.xlabel('Recency (Days Since Last Purchase)', fontsize=12)\n",
    "plt.ylabel('Frequency (Number of Transactions)', fontsize=12)\n",
    "plt.title('Customer Segments: Recency vs Frequency (Activity Level)', fontsize=14, fontweight='bold')\n",
    "plt.legend()\n",
    "plt.grid(True, alpha=0.3)\n",
    "plt.show()"
   ]
  },
  {
   "cell_type": "markdown",
   "id": "96d71e3b",
   "metadata": {},
   "source": [
    "**Interpretation of the graph:**\n",
    "\n",
    "\n",
    "This customer segmentation graph shows four distinct groups in order of priority:\n",
    "\n",
    "\n",
    "Cluster 2 (Red) - VIP customers are the most valuable, making recent purchases (0-20 days) with extremely high transaction frequency (up to 250 transactions), representing the most active and engaged customers\n",
    "\n",
    "\n",
    "Cluster 0 (Orange) - High-Value customers are recent purchasers (0-50 days) with moderate to high frequency (20-130 transactions) and represent excellent growth opportunities\n",
    "\n",
    "\n",
    "Cluster 3 (Purple) - Regular customers have purchased recently (0-100 days) with low frequency (1-20 transactions) and form the stable customer base\n",
    "\n",
    "\n",
    "Cluster 1 (Green) - At-Risk/Lost customers haven't purchased in months (150-400+ days) with minimal frequency and need immediate reactivation efforts.\n",
    "\n",
    "\n",
    "However, there's an exceptional case of an orange High-Value customer at 300 days recency with 35 transactions, suggesting a previously very active customer who has become dormant but retains high potential."
   ]
  },
  {
   "cell_type": "markdown",
   "id": "f1943e10",
   "metadata": {},
   "source": [
    "#### 8.2.4 Customer Distribution by Segment"
   ]
  },
  {
   "cell_type": "code",
   "execution_count": 43,
   "id": "760672de",
   "metadata": {},
   "outputs": [
    {
     "data": {
      "image/png": "[encoded data removed]",
      "text/plain": [
       "<Figure size 1200x800 with 1 Axes>"
      ]
     },
     "metadata": {},
     "output_type": "display_data"
    }
   ],
   "source": [
    "# 4. Cluster sizes bar chart \n",
    "plt.figure(figsize=(12, 8))\n",
    "\n",
    "cluster_counts = rfm['Cluster'].value_counts().sort_index()\n",
    "cluster_percentages = (cluster_counts / len(rfm) * 100).round(1)\n",
    "\n",
    "# Create bars with different colors for each cluster\n",
    "bars = plt.bar(range(len(cluster_counts)), cluster_counts.values, \n",
    "               color=colors, alpha=0.8, edgecolor='black', linewidth=1)\n",
    "\n",
    "# Add value labels on top of each bar \n",
    "for i, (count, percentage) in enumerate(zip(cluster_counts.values, cluster_percentages.values)):\n",
    "    # Use different positioning for the tallest bar (Cluster 1)\n",
    "    if i == 1:  # Cluster 1 (tallest bar)\n",
    "        plt.text(i, count + 100, f'{count:,}\\n({percentage}%)', \n",
    "                 ha='center', va='bottom', fontweight='bold', fontsize=11)\n",
    "    else:\n",
    "        plt.text(i, count + 50, f'{count:,}\\n({percentage}%)', \n",
    "                 ha='center', va='bottom', fontweight='bold', fontsize=11)\n",
    "\n",
    "# Customize the chart\n",
    "plt.xlabel('Customer Segments', fontsize=12)\n",
    "plt.ylabel('Number of Customers', fontsize=12)\n",
    "plt.title('Customer Distribution Across Segments', fontsize=14, fontweight='bold')\n",
    "\n",
    "# Add cluster names to x-axis\n",
    "plt.xticks(range(len(cluster_counts)), \n",
    "           [f'Cluster {i}\\n{segment_names_short[i]}' for i in range(len(cluster_counts))])\n",
    "\n",
    "plt.grid(True, alpha=0.3, axis='y')\n",
    "plt.ylim(0, max(cluster_counts.values) * 1.15)  \n",
    "plt.tight_layout()\n",
    "plt.show()"
   ]
  },
  {
   "cell_type": "markdown",
   "id": "782c5053",
   "metadata": {},
   "source": [
    "**Interpretation of the graph:**\n",
    "\n",
    "This customer distribution chart reveals the composition of the customer base across segments\n",
    "\n",
    "\n",
    "Cluster 3 (Purple) - Regular customers dominates with 3,059 customers (70.9%), representing the majority of the customer base with typical low-value, occasional purchasing behavior\n",
    "\n",
    "\n",
    "Cluster 1 (Green) - At-Risk/Lost customers contains 1,054 customers (24.4%), indicating nearly a quarter of customers are dormant and need reactivation\n",
    "\n",
    "\n",
    "Cluster 0 (Orange) - High-Value customers has 193 customers (4.5%), representing a small but significant group of frequent, high-spending customers\n",
    "\n",
    "\n",
    "Cluster 2 (Red) - VIP customers contains only 11 customers (0.3%), but these ultra-high-value customers likely generate disproportionate revenue despite their tiny numbers."
   ]
  },
  {
   "cell_type": "markdown",
   "id": "4ff144a6",
   "metadata": {},
   "source": [
    "## 9. Business Insights & Recommendations"
   ]
  },
  {
   "cell_type": "markdown",
   "id": "378a17b1",
   "metadata": {},
   "source": [
    "### 9.1 Executive Summary"
   ]
  },
  {
   "cell_type": "code",
   "execution_count": 44,
   "id": "e242a27e",
   "metadata": {},
   "outputs": [
    {
     "name": "stdout",
     "output_type": "stream",
     "text": [
      "\n",
      " BUSINESS OVERVIEW:\n",
      "   • Total Customers Analyzed: 4,317\n",
      "   • Total Revenue: £8,291,748.56\n",
      "   • Analysis Period: 373 days\n",
      "\n",
      " CUSTOMER PORTFOLIO BREAKDOWN:\n",
      "   • High Value Customers: 193 customers (4.5%)\n",
      "     Revenue Contribution: £2,352,855.61 (28.4%)\n",
      "   • At-Rist/Lost Customers: 1,054 customers (24.4%)\n",
      "     Revenue Contribution: £515,093.45 (6.2%)\n",
      "   • VIP Customers: 11 customers (0.3%)\n",
      "     Revenue Contribution: £1,365,654.76 (16.5%)\n",
      "   • Regular Customers: 3,059 customers (70.9%)\n",
      "     Revenue Contribution: £4,058,144.74 (48.9%)\n",
      "\n",
      " KEY FINDINGS:\n",
      "   • 193 customers (24.4%) are at risk of churning\n",
      "   • Only 11 customers (0.3%) are VIP Customers but drive significant revenue\n",
      "   • 1,054 customers (70.9%) form the core Regular customer base\n",
      "   • Opportunity to upgrade Regular customers to higher-value segments\n"
     ]
    }
   ],
   "source": [
    "total_customers = len(rfm)\n",
    "total_revenue = df_clean['TotalAmount'].sum()\n",
    "\n",
    "print(f\"\\n BUSINESS OVERVIEW:\")\n",
    "print(f\"   • Total Customers Analyzed: {total_customers:,}\")\n",
    "print(f\"   • Total Revenue: £{total_revenue:,.2f}\")\n",
    "print(f\"   • Analysis Period: {(df_clean['InvoiceDate'].max() - df_clean['InvoiceDate'].min()).days} days\")\n",
    "\n",
    "print(f\"\\n CUSTOMER PORTFOLIO BREAKDOWN:\")\n",
    "for cluster in range(4):\n",
    "    cluster_data = rfm[rfm['Cluster'] == cluster]\n",
    "    cluster_customers = df_clean[df_clean['CustomerID'].isin(cluster_data.index)]\n",
    "    cluster_revenue = cluster_customers['TotalAmount'].sum()\n",
    "    revenue_percentage = (cluster_revenue / total_revenue * 100)\n",
    "    \n",
    "    segment_names = {\n",
    "    0: \"High Value Customers\",\n",
    "    1: \"At-Rist/Lost Customers\",\n",
    "    2: \"VIP Customers\", \n",
    "    3: \"Regular Customers\"\n",
    "    }\n",
    "    \n",
    "    print(f\"   • {segment_names[cluster]}: {len(cluster_data):,} customers ({len(cluster_data)/total_customers*100:.1f}%)\")\n",
    "    print(f\"     Revenue Contribution: £{cluster_revenue:,.2f} ({revenue_percentage:.1f}%)\")\n",
    "\n",
    "print(f\"\\n KEY FINDINGS:\")\n",
    "print(f\"   • {rfm[rfm['Cluster']==0].shape[0]:,} customers (24.4%) are at risk of churning\")\n",
    "print(f\"   • Only {rfm[rfm['Cluster']==2].shape[0]} customers (0.3%) are VIP Customers but drive significant revenue\")\n",
    "print(f\"   • {rfm[rfm['Cluster']==1].shape[0]:,} customers (70.9%) form the core Regular customer base\")\n",
    "print(f\"   • Opportunity to upgrade Regular customers to higher-value segments\")"
   ]
  },
  {
   "cell_type": "markdown",
   "id": "1cb6c69d",
   "metadata": {},
   "source": [
    "### 9.2 Business Recommendations by Segment"
   ]
  },
  {
   "cell_type": "markdown",
   "id": "fcaa7e28",
   "metadata": {},
   "source": [
    "**VIP CUSTOMERS (11 customers - 0.3%)**\n",
    "\n",
    "\n",
    "These customers generate the highest revenue and loyalty.\n",
    "\n",
    "\n",
    "Recommendations:\n",
    "\n",
    "\n",
    "• Provide dedicated customer service\n",
    "\n",
    "• Offer exclusive products and early access\n",
    "\n",
    "• Regular personal outreach and relationship management\n",
    "\n",
    "• Premium loyalty rewards and benefits\n",
    "\n",
    "**HIGH-VALUE CUSTOMERS (193 customers - 4.5%)**\n",
    "\n",
    "\n",
    "Strong customers with potential to become VIPs.\n",
    "\n",
    "\n",
    "Recommendations:\n",
    "\n",
    "\n",
    "• Cross-sell related products to increase order value\n",
    "\n",
    "• Target for VIP program eligibility\n",
    "\n",
    "• Send personalized product recommendations\n",
    "\n",
    "• Re-engage dormant customer 17850 with special offer\n",
    "\n",
    "**REGULAR CUSTOMERS (3,059 customers (70.9%))**\n",
    "\n",
    "\n",
    "Core customer base with room for growth.\n",
    "\n",
    "\n",
    "Recommendations:\n",
    "\n",
    "\n",
    "• Encourage more frequent purchases through email campaigns\n",
    "\n",
    "• Offer bundle deals to increase transaction size\n",
    "\n",
    "• Focus on upgrading top 20% to higher-value segments\n",
    "\n",
    "• Implement loyalty program to build engagement\n",
    "\n",
    "**AT-RISK/LOST 1,054 customers (24.4%)**\n",
    "\n",
    "\n",
    "Customers who may have churned, need immediate attention.\n",
    "\n",
    "\n",
    "Recommendations:\n",
    "\n",
    "\n",
    "• Launch win-back campaigns with discount offers\n",
    "\n",
    "• Survey to understand why they stopped purchasing\n",
    "\n",
    "• Use retargeting ads to re-engage\n",
    "\n",
    "• If no response after 60 days, reduce marketing spend"
   ]
  },
  {
   "cell_type": "markdown",
   "id": "5e619d5b",
   "metadata": {},
   "source": [
    "### 9.3 Conclusion & Next Steps"
   ]
  },
  {
   "cell_type": "markdown",
   "id": "4116b868",
   "metadata": {},
   "source": [
    "**PROJECT SUMMARY**\n",
    "\n",
    "\n",
    "This customer segmentation analysis successfully identified four distinct customer groups using RFM methodology, providing clear insights into customer behavior and business opportunities.\n",
    "\n",
    "\n",
    "**KEY BUSINESS INSIGHTS**\n",
    "\n",
    "\n",
    "• Customer base is heavily skewed toward Regular customers (71%)\n",
    "\n",
    "• Small VIP segment (0.3%) likely drives disproportionate revenue\n",
    "\n",
    "• Significant churn risk with 24% of customers inactive for 8+ months\n",
    "\n",
    "• Clear upgrade path exists from Regular to Loyal High-Value segments\n",
    "\n",
    "\n",
    "**IMMEDIATE ACTION ITEMS**\n",
    "\n",
    "\n",
    "1. Implement VIP retention program within 30 days\n",
    "\n",
    "\n",
    "2. Launch win-back campaign for At-Risk customers\n",
    "\n",
    "\n",
    "3. Create loyalty program to upgrade Regular customers\n",
    "\n",
    "\n",
    "4. Develop targeted re-engagement for dormant high-value customers\n",
    "\n",
    "\n",
    "**RECOMMENDED FOLLOW-UP ANALYSIS**\n",
    "\n",
    "\n",
    "• Product affinity analysis to improve cross-selling\n",
    "\n",
    "• Seasonal purchasing pattern analysis\n",
    "\n",
    "• Customer lifetime value modeling\n",
    "\n",
    "• Churn prediction modeling for early intervention\n",
    "\n",
    "\n",
    "**EXPECTED BUSINESS IMPACT**\n",
    "\n",
    "\n",
    "• Improved customer retention through targeted strategies\n",
    "\n",
    "• Increased average order value via segment-specific campaigns\n",
    "\n",
    "• More efficient marketing spend allocation\n",
    "\n",
    "• Enhanced customer experience through personalized approaches"
   ]
  },
  {
   "cell_type": "code",
   "execution_count": null,
   "id": "d2a26f3a",
   "metadata": {},
   "outputs": [],
   "source": []
  }
 ],
 "metadata": {
  "kernelspec": {
   "display_name": "Python 3 (ipykernel)",
   "language": "python",
   "name": "python3"
  },
  "language_info": {
   "codemirror_mode": {
    "name": "ipython",
    "version": 3
   },
   "file_extension": ".py",
   "mimetype": "text/x-python",
   "name": "python",
   "nbconvert_exporter": "python",
   "pygments_lexer": "ipython3",
   "version": "3.9.19"
  }
 },
 "nbformat": 4,
 "nbformat_minor": 5
}
